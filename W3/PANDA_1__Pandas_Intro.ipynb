{
  "nbformat": 4,
  "nbformat_minor": 0,
  "metadata": {
    "colab": {
      "name": "PANDA-1__Pandas-Intro.ipynb",
      "provenance": [],
      "collapsed_sections": []
    },
    "kernelspec": {
      "name": "python3",
      "display_name": "Python 3"
    }
  },
  "cells": [
    {
      "cell_type": "markdown",
      "metadata": {
        "id": "TpF8ccl8fWuV",
        "colab_type": "text"
      },
      "source": [
        "# Pandas-1  - Pandas Intro\n",
        "\n",
        "[Workbook here](https://github.com/elephantscale/machine-learning-learning-path/blob/master/python-data-analysis/pd-1__pandas-intro.md)\n",
        "\n",
        "Thanks to all the [contributors](#contributors)\n",
        "\n",
        "### Difficulty Level\n",
        "★☆☆ - Easy  \n",
        "★★☆ - Medium  \n",
        "★★★ - Challenging  \n",
        "★★★★ - Bonus  "
      ]
    },
    {
      "cell_type": "markdown",
      "metadata": {
        "id": "5mL_rzz4fiFV",
        "colab_type": "text"
      },
      "source": [
        "## A - Creating dataframes"
      ]
    },
    {
      "cell_type": "markdown",
      "metadata": {
        "id": "gIr-kNDvfn04",
        "colab_type": "text"
      },
      "source": [
        "### A1 - Import Pandas and print out the current version (★☆☆)"
      ]
    },
    {
      "cell_type": "code",
      "metadata": {
        "id": "MTmhcEkzfg35",
        "colab_type": "code",
        "colab": {
          "base_uri": "https://localhost:8080/",
          "height": 34
        },
        "outputId": "7a4950ea-6635-4812-d8da-d5e194a8384b"
      },
      "source": [
        "import pandas as pd\n",
        "pd.__version__"
      ],
      "execution_count": null,
      "outputs": [
        {
          "output_type": "execute_result",
          "data": {
            "application/vnd.google.colaboratory.intrinsic+json": {
              "type": "string"
            },
            "text/plain": [
              "'1.0.5'"
            ]
          },
          "metadata": {
            "tags": []
          },
          "execution_count": 1
        }
      ]
    },
    {
      "cell_type": "markdown",
      "metadata": {
        "id": "svyPfIokf__Q",
        "colab_type": "text"
      },
      "source": [
        "### A4 - Create the following dataframe (★☆☆)"
      ]
    },
    {
      "cell_type": "code",
      "metadata": {
        "id": "CyORTABIf2gE",
        "colab_type": "code",
        "colab": {
          "base_uri": "https://localhost:8080/",
          "height": 167
        },
        "outputId": "a68b6328-a026-4b44-b978-fdccc08e4616"
      },
      "source": [
        "import pandas as pd\n",
        "\n",
        "cities = pd.DataFrame({\n",
        "    'city' : ['San Jose', 'San Francisco', 'Los Angeles', 'Seattle' ], \n",
        "    'population' : [10, 5, 30, 7], \n",
        "    'rainfall' : [15.5, 10.2, 5.5, 50.5]\n",
        "    \n",
        "})\n",
        "\n",
        "cities"
      ],
      "execution_count": null,
      "outputs": [
        {
          "output_type": "execute_result",
          "data": {
            "text/html": [
              "<div>\n",
              "<style scoped>\n",
              "    .dataframe tbody tr th:only-of-type {\n",
              "        vertical-align: middle;\n",
              "    }\n",
              "\n",
              "    .dataframe tbody tr th {\n",
              "        vertical-align: top;\n",
              "    }\n",
              "\n",
              "    .dataframe thead th {\n",
              "        text-align: right;\n",
              "    }\n",
              "</style>\n",
              "<table border=\"1\" class=\"dataframe\">\n",
              "  <thead>\n",
              "    <tr style=\"text-align: right;\">\n",
              "      <th></th>\n",
              "      <th>city</th>\n",
              "      <th>population</th>\n",
              "      <th>rainfall</th>\n",
              "    </tr>\n",
              "  </thead>\n",
              "  <tbody>\n",
              "    <tr>\n",
              "      <th>0</th>\n",
              "      <td>San Jose</td>\n",
              "      <td>10</td>\n",
              "      <td>15.5</td>\n",
              "    </tr>\n",
              "    <tr>\n",
              "      <th>1</th>\n",
              "      <td>San Francisco</td>\n",
              "      <td>5</td>\n",
              "      <td>10.2</td>\n",
              "    </tr>\n",
              "    <tr>\n",
              "      <th>2</th>\n",
              "      <td>Los Angeles</td>\n",
              "      <td>30</td>\n",
              "      <td>5.5</td>\n",
              "    </tr>\n",
              "    <tr>\n",
              "      <th>3</th>\n",
              "      <td>Seattle</td>\n",
              "      <td>7</td>\n",
              "      <td>50.5</td>\n",
              "    </tr>\n",
              "  </tbody>\n",
              "</table>\n",
              "</div>"
            ],
            "text/plain": [
              "            city  population  rainfall\n",
              "0       San Jose          10      15.5\n",
              "1  San Francisco           5      10.2\n",
              "2    Los Angeles          30       5.5\n",
              "3        Seattle           7      50.5"
            ]
          },
          "metadata": {
            "tags": []
          },
          "execution_count": 2
        }
      ]
    },
    {
      "cell_type": "markdown",
      "metadata": {
        "id": "DYaEct6Xi-Xu",
        "colab_type": "text"
      },
      "source": [
        "### A5 - Print the shape of above dataframe (★☆☆)"
      ]
    },
    {
      "cell_type": "code",
      "metadata": {
        "id": "bchu_5UJjCUe",
        "colab_type": "code",
        "colab": {
          "base_uri": "https://localhost:8080/",
          "height": 33
        },
        "outputId": "df8e79bf-8c94-45e3-e90e-4db9cf4156ec"
      },
      "source": [
        "cities.shape"
      ],
      "execution_count": null,
      "outputs": [
        {
          "output_type": "execute_result",
          "data": {
            "text/plain": [
              "(4, 3)"
            ]
          },
          "metadata": {
            "tags": []
          },
          "execution_count": 3
        }
      ]
    },
    {
      "cell_type": "markdown",
      "metadata": {
        "id": "4gk16NYNjH0A",
        "colab_type": "text"
      },
      "source": [
        "---"
      ]
    },
    {
      "cell_type": "markdown",
      "metadata": {
        "id": "66U6GYQykydR",
        "colab_type": "text"
      },
      "source": [
        "## B - Indexing and Slicing"
      ]
    },
    {
      "cell_type": "markdown",
      "metadata": {
        "id": "ZByWK52hk6we",
        "colab_type": "text"
      },
      "source": [
        "### B1 - In the above dataframe, print out population column (★☆☆)"
      ]
    },
    {
      "cell_type": "code",
      "metadata": {
        "id": "Bp_cZCeak9jo",
        "colab_type": "code",
        "colab": {
          "base_uri": "https://localhost:8080/",
          "height": 100
        },
        "outputId": "c8adab31-b6f3-4860-b77d-54bb16b16f5b"
      },
      "source": [
        "cities['population']"
      ],
      "execution_count": null,
      "outputs": [
        {
          "output_type": "execute_result",
          "data": {
            "text/plain": [
              "0    10\n",
              "1     5\n",
              "2    30\n",
              "3     7\n",
              "Name: population, dtype: int64"
            ]
          },
          "metadata": {
            "tags": []
          },
          "execution_count": 4
        }
      ]
    },
    {
      "cell_type": "markdown",
      "metadata": {
        "id": "X0_Ji5yslNo4",
        "colab_type": "text"
      },
      "source": [
        "### B2 - Print out column 2"
      ]
    },
    {
      "cell_type": "code",
      "metadata": {
        "id": "lgbCH_jElTS1",
        "colab_type": "code",
        "colab": {
          "base_uri": "https://localhost:8080/",
          "height": 100
        },
        "outputId": "d007bcc3-d156-429d-e720-d0a301d080fe"
      },
      "source": [
        "cities.iloc[:,2]"
      ],
      "execution_count": null,
      "outputs": [
        {
          "output_type": "execute_result",
          "data": {
            "text/plain": [
              "0    15.5\n",
              "1    10.2\n",
              "2     5.5\n",
              "3    50.5\n",
              "Name: rainfall, dtype: float64"
            ]
          },
          "metadata": {
            "tags": []
          },
          "execution_count": 5
        }
      ]
    },
    {
      "cell_type": "markdown",
      "metadata": {
        "id": "VR2SyclAmKSU",
        "colab_type": "text"
      },
      "source": [
        "### B4 - Print out the row for San Francisco (★☆☆)"
      ]
    },
    {
      "cell_type": "code",
      "metadata": {
        "id": "fU88WCtfmN9Q",
        "colab_type": "code",
        "colab": {
          "base_uri": "https://localhost:8080/",
          "height": 83
        },
        "outputId": "c288ef4a-55cf-44ed-d24c-02b3ac247111"
      },
      "source": [
        "cities.iloc[1,:]"
      ],
      "execution_count": null,
      "outputs": [
        {
          "output_type": "execute_result",
          "data": {
            "text/plain": [
              "city          San Francisco\n",
              "population                5\n",
              "rainfall               10.2\n",
              "Name: 1, dtype: object"
            ]
          },
          "metadata": {
            "tags": []
          },
          "execution_count": 6
        }
      ]
    },
    {
      "cell_type": "markdown",
      "metadata": {
        "id": "8RzLD4i8meDV",
        "colab_type": "text"
      },
      "source": [
        "### B5 - Print out rainfall number for Settle (★☆☆)"
      ]
    },
    {
      "cell_type": "code",
      "metadata": {
        "id": "XorY2Q7mmhAI",
        "colab_type": "code",
        "colab": {
          "base_uri": "https://localhost:8080/",
          "height": 33
        },
        "outputId": "6dff8953-8c1e-4be3-98bc-bbbc23ab808d"
      },
      "source": [
        "cities.iloc[3,:]['rainfall']"
      ],
      "execution_count": null,
      "outputs": [
        {
          "output_type": "execute_result",
          "data": {
            "text/plain": [
              "50.5"
            ]
          },
          "metadata": {
            "tags": []
          },
          "execution_count": 7
        }
      ]
    },
    {
      "cell_type": "markdown",
      "metadata": {
        "id": "rqJpMlXJk5X1",
        "colab_type": "text"
      },
      "source": [
        "---"
      ]
    },
    {
      "cell_type": "markdown",
      "metadata": {
        "id": "rgqkspU7nQCd",
        "colab_type": "text"
      },
      "source": [
        "## C - Manipulating DF"
      ]
    },
    {
      "cell_type": "markdown",
      "metadata": {
        "id": "oZfQwYhUnTfg",
        "colab_type": "text"
      },
      "source": [
        "### C1 - Set population for San Francisco to 12 (★☆☆)"
      ]
    },
    {
      "cell_type": "code",
      "metadata": {
        "id": "Aw678n6CnYq8",
        "colab_type": "code",
        "colab": {
          "base_uri": "https://localhost:8080/",
          "height": 167
        },
        "outputId": "8dd8d0b6-5e0f-4758-e28a-cb82077ada65"
      },
      "source": [
        "cities.iloc[1,1] = 12\n",
        "cities"
      ],
      "execution_count": null,
      "outputs": [
        {
          "output_type": "execute_result",
          "data": {
            "text/html": [
              "<div>\n",
              "<style scoped>\n",
              "    .dataframe tbody tr th:only-of-type {\n",
              "        vertical-align: middle;\n",
              "    }\n",
              "\n",
              "    .dataframe tbody tr th {\n",
              "        vertical-align: top;\n",
              "    }\n",
              "\n",
              "    .dataframe thead th {\n",
              "        text-align: right;\n",
              "    }\n",
              "</style>\n",
              "<table border=\"1\" class=\"dataframe\">\n",
              "  <thead>\n",
              "    <tr style=\"text-align: right;\">\n",
              "      <th></th>\n",
              "      <th>city</th>\n",
              "      <th>population</th>\n",
              "      <th>rainfall</th>\n",
              "    </tr>\n",
              "  </thead>\n",
              "  <tbody>\n",
              "    <tr>\n",
              "      <th>0</th>\n",
              "      <td>San Jose</td>\n",
              "      <td>10</td>\n",
              "      <td>15.5</td>\n",
              "    </tr>\n",
              "    <tr>\n",
              "      <th>1</th>\n",
              "      <td>San Francisco</td>\n",
              "      <td>12</td>\n",
              "      <td>10.2</td>\n",
              "    </tr>\n",
              "    <tr>\n",
              "      <th>2</th>\n",
              "      <td>Los Angeles</td>\n",
              "      <td>30</td>\n",
              "      <td>5.5</td>\n",
              "    </tr>\n",
              "    <tr>\n",
              "      <th>3</th>\n",
              "      <td>Seattle</td>\n",
              "      <td>7</td>\n",
              "      <td>50.5</td>\n",
              "    </tr>\n",
              "  </tbody>\n",
              "</table>\n",
              "</div>"
            ],
            "text/plain": [
              "            city  population  rainfall\n",
              "0       San Jose          10      15.5\n",
              "1  San Francisco          12      10.2\n",
              "2    Los Angeles          30       5.5\n",
              "3        Seattle           7      50.5"
            ]
          },
          "metadata": {
            "tags": []
          },
          "execution_count": 8
        }
      ]
    },
    {
      "cell_type": "markdown",
      "metadata": {
        "id": "ybwrZ8zKnl8U",
        "colab_type": "text"
      },
      "source": [
        "### C2 - Add a new row as follows (★☆☆)\n",
        "\n",
        "city: 'San Diego', population: 8, rainfail: 7.5"
      ]
    },
    {
      "cell_type": "code",
      "metadata": {
        "id": "X6xQy1pxnn0D",
        "colab_type": "code",
        "colab": {
          "base_uri": "https://localhost:8080/",
          "height": 197
        },
        "outputId": "f286b005-cd46-4a79-9371-95990f74fd22"
      },
      "source": [
        "san_diego = pd.DataFrame({'city' : ['San Diego'],\n",
        "                          'population' : [8],\n",
        "                          'rainfall' : [7.5]\n",
        "                          })\n",
        "\n",
        "cities2 = cities.append(san_diego)\n",
        "cities2"
      ],
      "execution_count": null,
      "outputs": [
        {
          "output_type": "execute_result",
          "data": {
            "text/html": [
              "<div>\n",
              "<style scoped>\n",
              "    .dataframe tbody tr th:only-of-type {\n",
              "        vertical-align: middle;\n",
              "    }\n",
              "\n",
              "    .dataframe tbody tr th {\n",
              "        vertical-align: top;\n",
              "    }\n",
              "\n",
              "    .dataframe thead th {\n",
              "        text-align: right;\n",
              "    }\n",
              "</style>\n",
              "<table border=\"1\" class=\"dataframe\">\n",
              "  <thead>\n",
              "    <tr style=\"text-align: right;\">\n",
              "      <th></th>\n",
              "      <th>city</th>\n",
              "      <th>population</th>\n",
              "      <th>rainfall</th>\n",
              "    </tr>\n",
              "  </thead>\n",
              "  <tbody>\n",
              "    <tr>\n",
              "      <th>0</th>\n",
              "      <td>San Jose</td>\n",
              "      <td>10</td>\n",
              "      <td>15.5</td>\n",
              "    </tr>\n",
              "    <tr>\n",
              "      <th>1</th>\n",
              "      <td>San Francisco</td>\n",
              "      <td>12</td>\n",
              "      <td>10.2</td>\n",
              "    </tr>\n",
              "    <tr>\n",
              "      <th>2</th>\n",
              "      <td>Los Angeles</td>\n",
              "      <td>30</td>\n",
              "      <td>5.5</td>\n",
              "    </tr>\n",
              "    <tr>\n",
              "      <th>3</th>\n",
              "      <td>Seattle</td>\n",
              "      <td>7</td>\n",
              "      <td>50.5</td>\n",
              "    </tr>\n",
              "    <tr>\n",
              "      <th>0</th>\n",
              "      <td>San Diego</td>\n",
              "      <td>8</td>\n",
              "      <td>7.5</td>\n",
              "    </tr>\n",
              "  </tbody>\n",
              "</table>\n",
              "</div>"
            ],
            "text/plain": [
              "            city  population  rainfall\n",
              "0       San Jose          10      15.5\n",
              "1  San Francisco          12      10.2\n",
              "2    Los Angeles          30       5.5\n",
              "3        Seattle           7      50.5\n",
              "0      San Diego           8       7.5"
            ]
          },
          "metadata": {
            "tags": []
          },
          "execution_count": 9
        }
      ]
    },
    {
      "cell_type": "markdown",
      "metadata": {
        "id": "9-G4DquRnRXJ",
        "colab_type": "text"
      },
      "source": [
        "---"
      ]
    },
    {
      "cell_type": "markdown",
      "metadata": {
        "id": "Chw7OdJVoZLW",
        "colab_type": "text"
      },
      "source": [
        "## D - Searching"
      ]
    },
    {
      "cell_type": "markdown",
      "metadata": {
        "id": "mJKhzUO5ocbD",
        "colab_type": "text"
      },
      "source": [
        "### D1 - Print rows where population > 10 (★★☆)"
      ]
    },
    {
      "cell_type": "code",
      "metadata": {
        "id": "T_dJFDvSofPC",
        "colab_type": "code",
        "colab": {
          "base_uri": "https://localhost:8080/",
          "height": 107
        },
        "outputId": "01a946c2-b2e4-4733-85ad-e83f3548a995"
      },
      "source": [
        "cities.loc[cities['population']>10,]"
      ],
      "execution_count": null,
      "outputs": [
        {
          "output_type": "execute_result",
          "data": {
            "text/html": [
              "<div>\n",
              "<style scoped>\n",
              "    .dataframe tbody tr th:only-of-type {\n",
              "        vertical-align: middle;\n",
              "    }\n",
              "\n",
              "    .dataframe tbody tr th {\n",
              "        vertical-align: top;\n",
              "    }\n",
              "\n",
              "    .dataframe thead th {\n",
              "        text-align: right;\n",
              "    }\n",
              "</style>\n",
              "<table border=\"1\" class=\"dataframe\">\n",
              "  <thead>\n",
              "    <tr style=\"text-align: right;\">\n",
              "      <th></th>\n",
              "      <th>city</th>\n",
              "      <th>population</th>\n",
              "      <th>rainfall</th>\n",
              "    </tr>\n",
              "  </thead>\n",
              "  <tbody>\n",
              "    <tr>\n",
              "      <th>1</th>\n",
              "      <td>San Francisco</td>\n",
              "      <td>12</td>\n",
              "      <td>10.2</td>\n",
              "    </tr>\n",
              "    <tr>\n",
              "      <th>2</th>\n",
              "      <td>Los Angeles</td>\n",
              "      <td>30</td>\n",
              "      <td>5.5</td>\n",
              "    </tr>\n",
              "  </tbody>\n",
              "</table>\n",
              "</div>"
            ],
            "text/plain": [
              "            city  population  rainfall\n",
              "1  San Francisco          12      10.2\n",
              "2    Los Angeles          30       5.5"
            ]
          },
          "metadata": {
            "tags": []
          },
          "execution_count": 10
        }
      ]
    },
    {
      "cell_type": "markdown",
      "metadata": {
        "id": "vGqNYpeWopdd",
        "colab_type": "text"
      },
      "source": [
        "### D2 - Print rows where population > 10 and rainfal < 10 (★★☆)"
      ]
    },
    {
      "cell_type": "code",
      "metadata": {
        "id": "QKziRqIfordR",
        "colab_type": "code",
        "colab": {
          "base_uri": "https://localhost:8080/",
          "height": 77
        },
        "outputId": "d338ad30-60fc-477e-e8c8-e911dd5dddbe"
      },
      "source": [
        "cities.loc [(cities['population']>10) & (cities['rainfall'] < 10) ,]"
      ],
      "execution_count": null,
      "outputs": [
        {
          "output_type": "execute_result",
          "data": {
            "text/html": [
              "<div>\n",
              "<style scoped>\n",
              "    .dataframe tbody tr th:only-of-type {\n",
              "        vertical-align: middle;\n",
              "    }\n",
              "\n",
              "    .dataframe tbody tr th {\n",
              "        vertical-align: top;\n",
              "    }\n",
              "\n",
              "    .dataframe thead th {\n",
              "        text-align: right;\n",
              "    }\n",
              "</style>\n",
              "<table border=\"1\" class=\"dataframe\">\n",
              "  <thead>\n",
              "    <tr style=\"text-align: right;\">\n",
              "      <th></th>\n",
              "      <th>city</th>\n",
              "      <th>population</th>\n",
              "      <th>rainfall</th>\n",
              "    </tr>\n",
              "  </thead>\n",
              "  <tbody>\n",
              "    <tr>\n",
              "      <th>2</th>\n",
              "      <td>Los Angeles</td>\n",
              "      <td>30</td>\n",
              "      <td>5.5</td>\n",
              "    </tr>\n",
              "  </tbody>\n",
              "</table>\n",
              "</div>"
            ],
            "text/plain": [
              "          city  population  rainfall\n",
              "2  Los Angeles          30       5.5"
            ]
          },
          "metadata": {
            "tags": []
          },
          "execution_count": 11
        }
      ]
    },
    {
      "cell_type": "markdown",
      "metadata": {
        "id": "IU0KPOocobFI",
        "colab_type": "text"
      },
      "source": [
        "---"
      ]
    },
    {
      "cell_type": "markdown",
      "metadata": {
        "id": "Vcj8roM9pDpC",
        "colab_type": "text"
      },
      "source": [
        "## E - Reading Files"
      ]
    },
    {
      "cell_type": "markdown",
      "metadata": {
        "id": "0YEt8kbLpGJj",
        "colab_type": "text"
      },
      "source": [
        "### E1 - Read the csv files (★☆☆)"
      ]
    },
    {
      "cell_type": "code",
      "metadata": {
        "id": "LASz73-mpJaG",
        "colab_type": "code",
        "colab": {
          "base_uri": "https://localhost:8080/",
          "height": 406
        },
        "outputId": "5ef3824b-c192-4380-d64e-cb29f10fec7b"
      },
      "source": [
        "import pandas as pd\n",
        "\n",
        "house_sales = pd.read_csv('https://elephantscale-public.s3.amazonaws.com/data/house-prices/house-sales-sample.csv')\n",
        "\n",
        "house_sales"
      ],
      "execution_count": null,
      "outputs": [
        {
          "output_type": "execute_result",
          "data": {
            "text/html": [
              "<div>\n",
              "<style scoped>\n",
              "    .dataframe tbody tr th:only-of-type {\n",
              "        vertical-align: middle;\n",
              "    }\n",
              "\n",
              "    .dataframe tbody tr th {\n",
              "        vertical-align: top;\n",
              "    }\n",
              "\n",
              "    .dataframe thead th {\n",
              "        text-align: right;\n",
              "    }\n",
              "</style>\n",
              "<table border=\"1\" class=\"dataframe\">\n",
              "  <thead>\n",
              "    <tr style=\"text-align: right;\">\n",
              "      <th></th>\n",
              "      <th>ID</th>\n",
              "      <th>Date</th>\n",
              "      <th>SalePrice</th>\n",
              "      <th>PropertyID</th>\n",
              "      <th>PropertyType</th>\n",
              "      <th>Bedrooms</th>\n",
              "      <th>Bathrooms</th>\n",
              "      <th>SqFtTotLiving</th>\n",
              "      <th>SqFtLot</th>\n",
              "      <th>YrBuilt</th>\n",
              "      <th>ZipCode</th>\n",
              "    </tr>\n",
              "  </thead>\n",
              "  <tbody>\n",
              "    <tr>\n",
              "      <th>0</th>\n",
              "      <td>26353</td>\n",
              "      <td>11/27/12</td>\n",
              "      <td>716831</td>\n",
              "      <td>9526550170</td>\n",
              "      <td>Single Family</td>\n",
              "      <td>5</td>\n",
              "      <td>3.50</td>\n",
              "      <td>3470</td>\n",
              "      <td>5326</td>\n",
              "      <td>2012</td>\n",
              "      <td>-1</td>\n",
              "    </tr>\n",
              "    <tr>\n",
              "      <th>1</th>\n",
              "      <td>22594</td>\n",
              "      <td>1/30/07</td>\n",
              "      <td>439900</td>\n",
              "      <td>8078100090</td>\n",
              "      <td>Single Family</td>\n",
              "      <td>4</td>\n",
              "      <td>2.50</td>\n",
              "      <td>2250</td>\n",
              "      <td>9988</td>\n",
              "      <td>1992</td>\n",
              "      <td>98031</td>\n",
              "    </tr>\n",
              "    <tr>\n",
              "      <th>2</th>\n",
              "      <td>10916</td>\n",
              "      <td>3/9/10</td>\n",
              "      <td>415000</td>\n",
              "      <td>3330501975</td>\n",
              "      <td>Single Family</td>\n",
              "      <td>5</td>\n",
              "      <td>2.00</td>\n",
              "      <td>2040</td>\n",
              "      <td>6180</td>\n",
              "      <td>1908</td>\n",
              "      <td>98118</td>\n",
              "    </tr>\n",
              "    <tr>\n",
              "      <th>3</th>\n",
              "      <td>11555</td>\n",
              "      <td>6/25/08</td>\n",
              "      <td>1050000</td>\n",
              "      <td>3459900305</td>\n",
              "      <td>Single Family</td>\n",
              "      <td>4</td>\n",
              "      <td>3.25</td>\n",
              "      <td>3520</td>\n",
              "      <td>19354</td>\n",
              "      <td>1978</td>\n",
              "      <td>98006</td>\n",
              "    </tr>\n",
              "    <tr>\n",
              "      <th>4</th>\n",
              "      <td>19360</td>\n",
              "      <td>9/24/08</td>\n",
              "      <td>777990</td>\n",
              "      <td>7203101030</td>\n",
              "      <td>Single Family</td>\n",
              "      <td>4</td>\n",
              "      <td>2.50</td>\n",
              "      <td>3610</td>\n",
              "      <td>5958</td>\n",
              "      <td>2008</td>\n",
              "      <td>98053</td>\n",
              "    </tr>\n",
              "    <tr>\n",
              "      <th>...</th>\n",
              "      <td>...</td>\n",
              "      <td>...</td>\n",
              "      <td>...</td>\n",
              "      <td>...</td>\n",
              "      <td>...</td>\n",
              "      <td>...</td>\n",
              "      <td>...</td>\n",
              "      <td>...</td>\n",
              "      <td>...</td>\n",
              "      <td>...</td>\n",
              "      <td>...</td>\n",
              "    </tr>\n",
              "    <tr>\n",
              "      <th>95</th>\n",
              "      <td>13456</td>\n",
              "      <td>7/25/12</td>\n",
              "      <td>359000</td>\n",
              "      <td>3913400010</td>\n",
              "      <td>Single Family</td>\n",
              "      <td>3</td>\n",
              "      <td>3.00</td>\n",
              "      <td>3240</td>\n",
              "      <td>20964</td>\n",
              "      <td>1981</td>\n",
              "      <td>98042</td>\n",
              "    </tr>\n",
              "    <tr>\n",
              "      <th>96</th>\n",
              "      <td>22585</td>\n",
              "      <td>10/9/08</td>\n",
              "      <td>465000</td>\n",
              "      <td>8077200390</td>\n",
              "      <td>Single Family</td>\n",
              "      <td>4</td>\n",
              "      <td>2.50</td>\n",
              "      <td>2340</td>\n",
              "      <td>7245</td>\n",
              "      <td>1987</td>\n",
              "      <td>98074</td>\n",
              "    </tr>\n",
              "    <tr>\n",
              "      <th>97</th>\n",
              "      <td>17869</td>\n",
              "      <td>2/22/08</td>\n",
              "      <td>327000</td>\n",
              "      <td>6412100051</td>\n",
              "      <td>Single Family</td>\n",
              "      <td>2</td>\n",
              "      <td>1.00</td>\n",
              "      <td>830</td>\n",
              "      <td>8820</td>\n",
              "      <td>1947</td>\n",
              "      <td>98125</td>\n",
              "    </tr>\n",
              "    <tr>\n",
              "      <th>98</th>\n",
              "      <td>2992</td>\n",
              "      <td>10/3/06</td>\n",
              "      <td>344950</td>\n",
              "      <td>1139000091</td>\n",
              "      <td>Townhouse</td>\n",
              "      <td>2</td>\n",
              "      <td>1.75</td>\n",
              "      <td>1330</td>\n",
              "      <td>1097</td>\n",
              "      <td>2002</td>\n",
              "      <td>98133</td>\n",
              "    </tr>\n",
              "    <tr>\n",
              "      <th>99</th>\n",
              "      <td>8945</td>\n",
              "      <td>9/13/06</td>\n",
              "      <td>384950</td>\n",
              "      <td>2776600074</td>\n",
              "      <td>Townhouse</td>\n",
              "      <td>3</td>\n",
              "      <td>3.50</td>\n",
              "      <td>1522</td>\n",
              "      <td>1255</td>\n",
              "      <td>2006</td>\n",
              "      <td>-1</td>\n",
              "    </tr>\n",
              "  </tbody>\n",
              "</table>\n",
              "<p>100 rows × 11 columns</p>\n",
              "</div>"
            ],
            "text/plain": [
              "       ID      Date  SalePrice  ...  SqFtLot YrBuilt  ZipCode\n",
              "0   26353  11/27/12     716831  ...     5326    2012       -1\n",
              "1   22594   1/30/07     439900  ...     9988    1992    98031\n",
              "2   10916    3/9/10     415000  ...     6180    1908    98118\n",
              "3   11555   6/25/08    1050000  ...    19354    1978    98006\n",
              "4   19360   9/24/08     777990  ...     5958    2008    98053\n",
              "..    ...       ...        ...  ...      ...     ...      ...\n",
              "95  13456   7/25/12     359000  ...    20964    1981    98042\n",
              "96  22585   10/9/08     465000  ...     7245    1987    98074\n",
              "97  17869   2/22/08     327000  ...     8820    1947    98125\n",
              "98   2992   10/3/06     344950  ...     1097    2002    98133\n",
              "99   8945   9/13/06     384950  ...     1255    2006       -1\n",
              "\n",
              "[100 rows x 11 columns]"
            ]
          },
          "metadata": {
            "tags": []
          },
          "execution_count": 12
        }
      ]
    },
    {
      "cell_type": "markdown",
      "metadata": {
        "id": "PcIOsKOLpZoX",
        "colab_type": "text"
      },
      "source": [
        "### E2 - And how many sales for 'Bedrooms = 4' (★☆☆)"
      ]
    },
    {
      "cell_type": "code",
      "metadata": {
        "id": "y325ycWSpa-q",
        "colab_type": "code",
        "colab": {
          "base_uri": "https://localhost:8080/",
          "height": 116
        },
        "outputId": "57d4080c-7b50-4e58-f64e-e40736bc946c"
      },
      "source": [
        "house_sales.groupby('Bedrooms').size()"
      ],
      "execution_count": null,
      "outputs": [
        {
          "output_type": "execute_result",
          "data": {
            "text/plain": [
              "Bedrooms\n",
              "2    18\n",
              "3    44\n",
              "4    32\n",
              "5     6\n",
              "dtype: int64"
            ]
          },
          "metadata": {
            "tags": []
          },
          "execution_count": 13
        }
      ]
    },
    {
      "cell_type": "markdown",
      "metadata": {
        "id": "9UXJv5DNpFD9",
        "colab_type": "text"
      },
      "source": [
        "---"
      ]
    },
    {
      "cell_type": "markdown",
      "metadata": {
        "id": "OR0Detx9hTjF",
        "colab_type": "text"
      },
      "source": [
        "<a name=\"contributors\"/>\n",
        "\n",
        "## Contributors\n",
        "Following people made this possible!  \n",
        "Thank you!!\n",
        "\n",
        "- Sujee Maniyam @ ElephantScale   (<sujee@elephantscale.com>)"
      ]
    },
    {
      "cell_type": "code",
      "metadata": {
        "id": "YT0mhDnAhY1I",
        "colab_type": "code",
        "colab": {}
      },
      "source": [
        ""
      ],
      "execution_count": null,
      "outputs": []
    }
  ]
}