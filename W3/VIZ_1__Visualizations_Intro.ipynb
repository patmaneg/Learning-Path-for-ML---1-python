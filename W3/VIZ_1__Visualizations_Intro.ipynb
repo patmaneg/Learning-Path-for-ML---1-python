{
  "nbformat": 4,
  "nbformat_minor": 0,
  "metadata": {
    "colab": {
      "name": "VIZ-1__Visualizations-Intro.ipynb",
      "provenance": [],
      "collapsed_sections": []
    },
    "kernelspec": {
      "name": "python3",
      "display_name": "Python 3"
    }
  },
  "cells": [
    {
      "cell_type": "markdown",
      "metadata": {
        "id": "pcszvP-54QCE",
        "colab_type": "text"
      },
      "source": [
        "# VIZ-1  - Visualizations Intro\n",
        "\n",
        "[Workbook here](https://github.com/elephantscale/machine-learning-learning-path/blob/master/python-data-analysis/viz-1__viz-intro.md)\n",
        "\n",
        "Thanks to all the [contributors](#contributors)\n",
        "\n",
        "### Difficulty Level\n",
        "★☆☆ - Easy  \n",
        "★★☆ - Medium  \n",
        "★★★ - Challenging  \n",
        "★★★★ - Bonus  "
      ]
    },
    {
      "cell_type": "markdown",
      "metadata": {
        "id": "gmSOdxlAxG94",
        "colab_type": "text"
      },
      "source": [
        "## A - Basic Plots"
      ]
    },
    {
      "cell_type": "markdown",
      "metadata": {
        "id": "X-TXWCXTxJ5b",
        "colab_type": "text"
      },
      "source": [
        "### A1 - Do a scatter plot of following data (★☆☆)"
      ]
    },
    {
      "cell_type": "code",
      "metadata": {
        "id": "mnO0i6hrxNIx",
        "colab_type": "code",
        "colab": {
          "base_uri": "https://localhost:8080/",
          "height": 73
        },
        "outputId": "cf159e34-4534-4156-9537-276909939e97"
      },
      "source": [
        "\n",
        "%matplotlib inline\n",
        "\n",
        "import matplotlib.pyplot as plt\n",
        "import seaborn as sns \n",
        "\n",
        "bills = [50,30,60,40,65,20,10,15,25,35]\n",
        "tips= [12,7,13,8,15,5,2,2,3,4]\n"
      ],
      "execution_count": null,
      "outputs": [
        {
          "output_type": "stream",
          "text": [
            "/usr/local/lib/python3.6/dist-packages/statsmodels/tools/_testing.py:19: FutureWarning: pandas.util.testing is deprecated. Use the functions in the public API at pandas.testing instead.\n",
            "  import pandas.util.testing as tm\n"
          ],
          "name": "stderr"
        }
      ]
    },
    {
      "cell_type": "code",
      "metadata": {
        "id": "ijge_9fRxlrk",
        "colab_type": "code",
        "colab": {
          "base_uri": "https://localhost:8080/",
          "height": 283
        },
        "outputId": "8f8f53a9-1187-4319-95a9-1c01f733d74a"
      },
      "source": [
        "## Basic plot\n",
        "plt.scatter(bills, tips)"
      ],
      "execution_count": null,
      "outputs": [
        {
          "output_type": "execute_result",
          "data": {
            "text/plain": [
              "<matplotlib.collections.PathCollection at 0x7f0f0d16ee80>"
            ]
          },
          "metadata": {
            "tags": []
          },
          "execution_count": 2
        },
        {
          "output_type": "display_data",
          "data": {
            "image/png": "[encoded data removed]",
            "text/plain": [
              "<Figure size 432x288 with 1 Axes>"
            ]
          },
          "metadata": {
            "tags": [],
            "needs_background": "light"
          }
        }
      ]
    },
    {
      "cell_type": "code",
      "metadata": {
        "id": "MMLLRVQgxo20",
        "colab_type": "code",
        "colab": {
          "base_uri": "https://localhost:8080/",
          "height": 297
        },
        "outputId": "39117ed5-e0ce-4986-bf07-0f37d632a596"
      },
      "source": [
        "## Plot with titles\n",
        "plt.xlabel(\"bill\")\n",
        "plt.ylabel(\"tip\")\n",
        "plt.scatter(bills, tips)"
      ],
      "execution_count": null,
      "outputs": [
        {
          "output_type": "execute_result",
          "data": {
            "text/plain": [
              "<matplotlib.collections.PathCollection at 0x7f0f0cc47e48>"
            ]
          },
          "metadata": {
            "tags": []
          },
          "execution_count": 3
        },
        {
          "output_type": "display_data",
          "data": {
            "image/png": "[encoded data removed]",
            "text/plain": [
              "<Figure size 432x288 with 1 Axes>"
            ]
          },
          "metadata": {
            "tags": [],
            "needs_background": "light"
          }
        }
      ]
    },
    {
      "cell_type": "markdown",
      "metadata": {
        "id": "L_nMU_02xyXi",
        "colab_type": "text"
      },
      "source": [
        "### A2 - Do a boxplot of the following data (★☆☆)"
      ]
    },
    {
      "cell_type": "code",
      "metadata": {
        "id": "Ozbnnwecx1G8",
        "colab_type": "code",
        "colab": {
          "base_uri": "https://localhost:8080/",
          "height": 265
        },
        "outputId": "6771913a-33ea-4306-d23f-140ddfa10c89"
      },
      "source": [
        "a = [22, 25, 30, 35, 40, 42, 45, 50, 55, 60, 65, 70]\n",
        "\n",
        "plt.boxplot(a)\n",
        "plt.show()"
      ],
      "execution_count": null,
      "outputs": [
        {
          "output_type": "display_data",
          "data": {
            "image/png": "[encoded data removed]",
            "text/plain": [
              "<Figure size 432x288 with 1 Axes>"
            ]
          },
          "metadata": {
            "tags": [],
            "needs_background": "light"
          }
        }
      ]
    },
    {
      "cell_type": "code",
      "metadata": {
        "id": "lbZrj3drx90j",
        "colab_type": "code",
        "colab": {
          "base_uri": "https://localhost:8080/",
          "height": 283
        },
        "outputId": "01277e02-8722-40ec-b2b4-3e3596bd03b0"
      },
      "source": [
        "sns.boxplot(data=a)"
      ],
      "execution_count": null,
      "outputs": [
        {
          "output_type": "execute_result",
          "data": {
            "text/plain": [
              "<matplotlib.axes._subplots.AxesSubplot at 0x7f0f0cb77940>"
            ]
          },
          "metadata": {
            "tags": []
          },
          "execution_count": 5
        },
        {
          "output_type": "display_data",
          "data": {
            "image/png": "[encoded data removed]",
            "text/plain": [
              "<Figure size 432x288 with 1 Axes>"
            ]
          },
          "metadata": {
            "tags": [],
            "needs_background": "light"
          }
        }
      ]
    },
    {
      "cell_type": "markdown",
      "metadata": {
        "id": "YBcey2_GyPiu",
        "colab_type": "text"
      },
      "source": [
        "### A3 - Do a lineplot of following data (★☆☆)"
      ]
    },
    {
      "cell_type": "code",
      "metadata": {
        "id": "Uo3SWSj5yQxD",
        "colab_type": "code",
        "colab": {
          "base_uri": "https://localhost:8080/",
          "height": 283
        },
        "outputId": "b601bc5f-34b5-4669-a39b-787d1ab26845"
      },
      "source": [
        "import pandas as pd\n",
        "import matplotlib.pyplot as plt\n",
        "import seaborn as sns \n",
        "\n",
        "data = pd.DataFrame({'month' : ['Jan', 'Feb', 'Mar', 'Apr', 'May'], \n",
        "                     'revenue' : [10,12,7,15,17]\n",
        "                     })\n",
        "\n",
        "plt.plot (data['month'], data['revenue'])"
      ],
      "execution_count": null,
      "outputs": [
        {
          "output_type": "execute_result",
          "data": {
            "text/plain": [
              "[<matplotlib.lines.Line2D at 0x7f0f0cb1e5c0>]"
            ]
          },
          "metadata": {
            "tags": []
          },
          "execution_count": 6
        },
        {
          "output_type": "display_data",
          "data": {
            "image/png": "[encoded data removed]",
            "text/plain": [
              "<Figure size 432x288 with 1 Axes>"
            ]
          },
          "metadata": {
            "tags": [],
            "needs_background": "light"
          }
        }
      ]
    },
    {
      "cell_type": "code",
      "metadata": {
        "id": "oCRw0YjMzGcH",
        "colab_type": "code",
        "colab": {
          "base_uri": "https://localhost:8080/",
          "height": 297
        },
        "outputId": "13fbb2bd-ae24-413e-aca2-8583e901da63"
      },
      "source": [
        "sns.lineplot(data['month'], data['revenue'], sort=False)"
      ],
      "execution_count": null,
      "outputs": [
        {
          "output_type": "execute_result",
          "data": {
            "text/plain": [
              "<matplotlib.axes._subplots.AxesSubplot at 0x7f0f0cb57e48>"
            ]
          },
          "metadata": {
            "tags": []
          },
          "execution_count": 7
        },
        {
          "output_type": "display_data",
          "data": {
            "image/png": "[encoded data removed]",
            "text/plain": [
              "<Figure size 432x288 with 1 Axes>"
            ]
          },
          "metadata": {
            "tags": [],
            "needs_background": "light"
          }
        }
      ]
    },
    {
      "cell_type": "markdown",
      "metadata": {
        "id": "PjlJFI4bzgvD",
        "colab_type": "text"
      },
      "source": [
        "### A4 - Do a barplot of above data (★☆☆)"
      ]
    },
    {
      "cell_type": "code",
      "metadata": {
        "id": "is4L5xUc0sf0",
        "colab_type": "code",
        "colab": {
          "base_uri": "https://localhost:8080/",
          "height": 308
        },
        "outputId": "87646eb7-e674-46d5-dc01-1dabc6742a8a"
      },
      "source": [
        "import pandas as pd\n",
        "import matplotlib.pyplot as plt\n",
        "import seaborn as sns \n",
        "\n",
        "data = pd.DataFrame({'month' : ['Jan', 'Feb', 'Mar', 'Apr', 'May'], \n",
        "                     'revenue' : [10,12,7,15,17]\n",
        "                     })\n",
        "\n",
        "data.plot.bar(x='month', y = 'revenue')"
      ],
      "execution_count": null,
      "outputs": [
        {
          "output_type": "execute_result",
          "data": {
            "text/plain": [
              "<matplotlib.axes._subplots.AxesSubplot at 0x7f0f0cc150b8>"
            ]
          },
          "metadata": {
            "tags": []
          },
          "execution_count": 8
        },
        {
          "output_type": "display_data",
          "data": {
            "image/png": "[encoded data removed]",
            "text/plain": [
              "<Figure size 432x288 with 1 Axes>"
            ]
          },
          "metadata": {
            "tags": [],
            "needs_background": "light"
          }
        }
      ]
    },
    {
      "cell_type": "code",
      "metadata": {
        "id": "T_zli4bE1pmL",
        "colab_type": "code",
        "colab": {
          "base_uri": "https://localhost:8080/",
          "height": 297
        },
        "outputId": "434d40d8-5efa-41ad-d91d-37609c076618"
      },
      "source": [
        "sns.barplot(x='month', y = 'revenue', data=data)"
      ],
      "execution_count": null,
      "outputs": [
        {
          "output_type": "execute_result",
          "data": {
            "text/plain": [
              "<matplotlib.axes._subplots.AxesSubplot at 0x7f0f0ca21898>"
            ]
          },
          "metadata": {
            "tags": []
          },
          "execution_count": 9
        },
        {
          "output_type": "display_data",
          "data": {
            "image/png": "[encoded data removed]",
            "text/plain": [
              "<Figure size 432x288 with 1 Axes>"
            ]
          },
          "metadata": {
            "tags": [],
            "needs_background": "light"
          }
        }
      ]
    },
    {
      "cell_type": "markdown",
      "metadata": {
        "id": "1oNcmR-C10ya",
        "colab_type": "text"
      },
      "source": [
        "## A5 - Do a pie chart of following data (★☆☆)\n",
        "\n",
        "```\n",
        "Gender  percentage\n",
        "M        52\n",
        "F        40\n",
        "Unknown   8\n",
        "```"
      ]
    },
    {
      "cell_type": "code",
      "metadata": {
        "id": "9BzwvAI1zjzL",
        "colab_type": "code",
        "colab": {
          "base_uri": "https://localhost:8080/",
          "height": 266
        },
        "outputId": "291dc152-9b9d-4813-de27-365fb80a8457"
      },
      "source": [
        "import pandas as pd\n",
        "import matplotlib.pyplot as plt\n",
        "import seaborn as sns \n",
        "\n",
        "data = pd.DataFrame({'gender' : ['M', 'F', 'Unknown'], \n",
        "                     'percentage' : [52, 40, 8]},\n",
        "                     index = ['M', 'F', 'Unknown']\n",
        "                     )\n",
        "\n",
        "data.plot.pie(x='gender', y='percentage')\n"
      ],
      "execution_count": null,
      "outputs": [
        {
          "output_type": "execute_result",
          "data": {
            "text/plain": [
              "<matplotlib.axes._subplots.AxesSubplot at 0x7f0f0c9357f0>"
            ]
          },
          "metadata": {
            "tags": []
          },
          "execution_count": 10
        },
        {
          "output_type": "display_data",
          "data": {
            "image/png": "[encoded data removed]",
            "text/plain": [
              "<Figure size 432x288 with 1 Axes>"
            ]
          },
          "metadata": {
            "tags": []
          }
        }
      ]
    },
    {
      "cell_type": "markdown",
      "metadata": {
        "id": "HTaWGOyG2Ms_",
        "colab_type": "text"
      },
      "source": [
        "### A6 - Plot a histogram of data (★☆☆)\n",
        "\n",
        "`a = [22, 25, 30, 35, 40, 42, 45, 50, 55, 60, 65, 70]`"
      ]
    },
    {
      "cell_type": "code",
      "metadata": {
        "id": "eWTlzzVA2TNQ",
        "colab_type": "code",
        "colab": {
          "base_uri": "https://localhost:8080/",
          "height": 319
        },
        "outputId": "fe8d0f79-c173-4735-e3f5-8284273e3000"
      },
      "source": [
        "import pandas as pd\n",
        "import matplotlib.pyplot as plt\n",
        "import seaborn as sns \n",
        "\n",
        "a = [22, 25, 30, 35, 40, 42, 45, 50, 55, 60, 65, 70]\n",
        "\n",
        "plt.hist(a, rwidth=0.5, bins=5)"
      ],
      "execution_count": null,
      "outputs": [
        {
          "output_type": "execute_result",
          "data": {
            "text/plain": [
              "(array([3., 2., 3., 2., 2.]),\n",
              " array([22. , 31.6, 41.2, 50.8, 60.4, 70. ]),\n",
              " <a list of 5 Patch objects>)"
            ]
          },
          "metadata": {
            "tags": []
          },
          "execution_count": 11
        },
        {
          "output_type": "display_data",
          "data": {
            "image/png": "[encoded data removed]",
            "text/plain": [
              "<Figure size 432x288 with 1 Axes>"
            ]
          },
          "metadata": {
            "tags": [],
            "needs_background": "light"
          }
        }
      ]
    },
    {
      "cell_type": "code",
      "metadata": {
        "id": "WoMM-ifg2pZl",
        "colab_type": "code",
        "colab": {
          "base_uri": "https://localhost:8080/",
          "height": 283
        },
        "outputId": "0b724cf5-48e0-4636-a6fb-5815f4a6971e"
      },
      "source": [
        "sns.distplot(a, bins=5, hist_kws={\"rwidth\":0.5})"
      ],
      "execution_count": null,
      "outputs": [
        {
          "output_type": "execute_result",
          "data": {
            "text/plain": [
              "<matplotlib.axes._subplots.AxesSubplot at 0x7f0f0c8c2550>"
            ]
          },
          "metadata": {
            "tags": []
          },
          "execution_count": 12
        },
        {
          "output_type": "display_data",
          "data": {
            "image/png": "[encoded data removed]",
            "text/plain": [
              "<Figure size 432x288 with 1 Axes>"
            ]
          },
          "metadata": {
            "tags": [],
            "needs_background": "light"
          }
        }
      ]
    },
    {
      "cell_type": "markdown",
      "metadata": {
        "id": "fRvM3LZ_xIuV",
        "colab_type": "text"
      },
      "source": [
        "---"
      ]
    },
    {
      "cell_type": "markdown",
      "metadata": {
        "id": "3LO8WC2m340r",
        "colab_type": "text"
      },
      "source": [
        "## Exercises"
      ]
    },
    {
      "cell_type": "markdown",
      "metadata": {
        "id": "RuD00o4H364D",
        "colab_type": "text"
      },
      "source": [
        "### EX-1: Visualize Housing Dataset"
      ]
    },
    {
      "cell_type": "code",
      "metadata": {
        "id": "DObPPCvrxID8",
        "colab_type": "code",
        "colab": {
          "base_uri": "https://localhost:8080/",
          "height": 419
        },
        "outputId": "98e9f680-09fc-4329-9275-6b0a3f5ae8e9"
      },
      "source": [
        "import pandas as pd\n",
        "import matplotlib.pyplot as plt\n",
        "import seaborn as sns \n",
        "\n",
        "house_sales = pd.read_csv('https://elephantscale-public.s3.amazonaws.com/data/house-prices/house-sales-simplified.csv')\n",
        "house_sales"
      ],
      "execution_count": null,
      "outputs": [
        {
          "output_type": "execute_result",
          "data": {
            "text/html": [
              "<div>\n",
              "<style scoped>\n",
              "    .dataframe tbody tr th:only-of-type {\n",
              "        vertical-align: middle;\n",
              "    }\n",
              "\n",
              "    .dataframe tbody tr th {\n",
              "        vertical-align: top;\n",
              "    }\n",
              "\n",
              "    .dataframe thead th {\n",
              "        text-align: right;\n",
              "    }\n",
              "</style>\n",
              "<table border=\"1\" class=\"dataframe\">\n",
              "  <thead>\n",
              "    <tr style=\"text-align: right;\">\n",
              "      <th></th>\n",
              "      <th>ID</th>\n",
              "      <th>Date</th>\n",
              "      <th>SalePrice</th>\n",
              "      <th>PropertyID</th>\n",
              "      <th>PropertyType</th>\n",
              "      <th>Bedrooms</th>\n",
              "      <th>Bathrooms</th>\n",
              "      <th>SqFtTotLiving</th>\n",
              "      <th>SqFtLot</th>\n",
              "      <th>YrBuilt</th>\n",
              "      <th>ZipCode</th>\n",
              "    </tr>\n",
              "  </thead>\n",
              "  <tbody>\n",
              "    <tr>\n",
              "      <th>0</th>\n",
              "      <td>1</td>\n",
              "      <td>9/16/14</td>\n",
              "      <td>280000</td>\n",
              "      <td>1000102</td>\n",
              "      <td>Multiplex</td>\n",
              "      <td>6</td>\n",
              "      <td>3.00</td>\n",
              "      <td>2400</td>\n",
              "      <td>9373</td>\n",
              "      <td>1991</td>\n",
              "      <td>98002</td>\n",
              "    </tr>\n",
              "    <tr>\n",
              "      <th>1</th>\n",
              "      <td>2</td>\n",
              "      <td>6/16/06</td>\n",
              "      <td>1000000</td>\n",
              "      <td>1200013</td>\n",
              "      <td>Single Family</td>\n",
              "      <td>4</td>\n",
              "      <td>3.75</td>\n",
              "      <td>3764</td>\n",
              "      <td>20156</td>\n",
              "      <td>2005</td>\n",
              "      <td>98166</td>\n",
              "    </tr>\n",
              "    <tr>\n",
              "      <th>2</th>\n",
              "      <td>3</td>\n",
              "      <td>1/29/07</td>\n",
              "      <td>745000</td>\n",
              "      <td>1200019</td>\n",
              "      <td>Single Family</td>\n",
              "      <td>4</td>\n",
              "      <td>1.75</td>\n",
              "      <td>2060</td>\n",
              "      <td>26036</td>\n",
              "      <td>1947</td>\n",
              "      <td>98166</td>\n",
              "    </tr>\n",
              "    <tr>\n",
              "      <th>3</th>\n",
              "      <td>4</td>\n",
              "      <td>2/25/08</td>\n",
              "      <td>425000</td>\n",
              "      <td>2800016</td>\n",
              "      <td>Single Family</td>\n",
              "      <td>5</td>\n",
              "      <td>3.75</td>\n",
              "      <td>3200</td>\n",
              "      <td>8618</td>\n",
              "      <td>1966</td>\n",
              "      <td>98168</td>\n",
              "    </tr>\n",
              "    <tr>\n",
              "      <th>4</th>\n",
              "      <td>5</td>\n",
              "      <td>3/29/13</td>\n",
              "      <td>240000</td>\n",
              "      <td>2800024</td>\n",
              "      <td>Single Family</td>\n",
              "      <td>4</td>\n",
              "      <td>1.75</td>\n",
              "      <td>1720</td>\n",
              "      <td>8620</td>\n",
              "      <td>1948</td>\n",
              "      <td>98168</td>\n",
              "    </tr>\n",
              "    <tr>\n",
              "      <th>...</th>\n",
              "      <td>...</td>\n",
              "      <td>...</td>\n",
              "      <td>...</td>\n",
              "      <td>...</td>\n",
              "      <td>...</td>\n",
              "      <td>...</td>\n",
              "      <td>...</td>\n",
              "      <td>...</td>\n",
              "      <td>...</td>\n",
              "      <td>...</td>\n",
              "      <td>...</td>\n",
              "    </tr>\n",
              "    <tr>\n",
              "      <th>27058</th>\n",
              "      <td>27059</td>\n",
              "      <td>10/31/12</td>\n",
              "      <td>374000</td>\n",
              "      <td>9895000030</td>\n",
              "      <td>Townhouse</td>\n",
              "      <td>2</td>\n",
              "      <td>1.75</td>\n",
              "      <td>1410</td>\n",
              "      <td>1161</td>\n",
              "      <td>2011</td>\n",
              "      <td>-1</td>\n",
              "    </tr>\n",
              "    <tr>\n",
              "      <th>27059</th>\n",
              "      <td>27060</td>\n",
              "      <td>12/7/12</td>\n",
              "      <td>374000</td>\n",
              "      <td>9895000040</td>\n",
              "      <td>Townhouse</td>\n",
              "      <td>2</td>\n",
              "      <td>1.75</td>\n",
              "      <td>1410</td>\n",
              "      <td>1005</td>\n",
              "      <td>2011</td>\n",
              "      <td>-1</td>\n",
              "    </tr>\n",
              "    <tr>\n",
              "      <th>27060</th>\n",
              "      <td>27061</td>\n",
              "      <td>7/9/12</td>\n",
              "      <td>165000</td>\n",
              "      <td>9899200010</td>\n",
              "      <td>Single Family</td>\n",
              "      <td>4</td>\n",
              "      <td>1.00</td>\n",
              "      <td>1070</td>\n",
              "      <td>11170</td>\n",
              "      <td>1971</td>\n",
              "      <td>98055</td>\n",
              "    </tr>\n",
              "    <tr>\n",
              "      <th>27061</th>\n",
              "      <td>27062</td>\n",
              "      <td>5/26/06</td>\n",
              "      <td>315000</td>\n",
              "      <td>9900000355</td>\n",
              "      <td>Single Family</td>\n",
              "      <td>3</td>\n",
              "      <td>2.00</td>\n",
              "      <td>1345</td>\n",
              "      <td>6223</td>\n",
              "      <td>1939</td>\n",
              "      <td>98166</td>\n",
              "    </tr>\n",
              "    <tr>\n",
              "      <th>27062</th>\n",
              "      <td>27063</td>\n",
              "      <td>1/9/07</td>\n",
              "      <td>465000</td>\n",
              "      <td>9906000035</td>\n",
              "      <td>Single Family</td>\n",
              "      <td>3</td>\n",
              "      <td>1.50</td>\n",
              "      <td>790</td>\n",
              "      <td>4400</td>\n",
              "      <td>1928</td>\n",
              "      <td>98103</td>\n",
              "    </tr>\n",
              "  </tbody>\n",
              "</table>\n",
              "<p>27063 rows × 11 columns</p>\n",
              "</div>"
            ],
            "text/plain": [
              "          ID      Date  SalePrice  ...  SqFtLot YrBuilt  ZipCode\n",
              "0          1   9/16/14     280000  ...     9373    1991    98002\n",
              "1          2   6/16/06    1000000  ...    20156    2005    98166\n",
              "2          3   1/29/07     745000  ...    26036    1947    98166\n",
              "3          4   2/25/08     425000  ...     8618    1966    98168\n",
              "4          5   3/29/13     240000  ...     8620    1948    98168\n",
              "...      ...       ...        ...  ...      ...     ...      ...\n",
              "27058  27059  10/31/12     374000  ...     1161    2011       -1\n",
              "27059  27060   12/7/12     374000  ...     1005    2011       -1\n",
              "27060  27061    7/9/12     165000  ...    11170    1971    98055\n",
              "27061  27062   5/26/06     315000  ...     6223    1939    98166\n",
              "27062  27063    1/9/07     465000  ...     4400    1928    98103\n",
              "\n",
              "[27063 rows x 11 columns]"
            ]
          },
          "metadata": {
            "tags": []
          },
          "execution_count": 13
        }
      ]
    },
    {
      "cell_type": "code",
      "metadata": {
        "id": "etvztes15CER",
        "colab_type": "code",
        "colab": {
          "base_uri": "https://localhost:8080/",
          "height": 287
        },
        "outputId": "b2ff345b-2ac3-436a-f121-283c32540070"
      },
      "source": [
        "## House sales by bedroom\n",
        "\n",
        "sale_by_bedroom = house_sales.groupby(\"Bedrooms\").size()\n",
        "sale_by_bedroom "
      ],
      "execution_count": null,
      "outputs": [
        {
          "output_type": "execute_result",
          "data": {
            "text/plain": [
              "Bedrooms\n",
              "0        12\n",
              "1       164\n",
              "2      3415\n",
              "3     12074\n",
              "4      9190\n",
              "5      1872\n",
              "6       275\n",
              "7        41\n",
              "8        10\n",
              "9         5\n",
              "11        3\n",
              "13        1\n",
              "33        1\n",
              "dtype: int64"
            ]
          },
          "metadata": {
            "tags": []
          },
          "execution_count": 14
        }
      ]
    },
    {
      "cell_type": "code",
      "metadata": {
        "id": "7UxzywVL5Nck",
        "colab_type": "code",
        "colab": {
          "base_uri": "https://localhost:8080/",
          "height": 297
        },
        "outputId": "1d2b3e46-e2a2-47cd-b32d-2332fb3db047"
      },
      "source": [
        "sns.countplot(data=house_sales, x=\"Bedrooms\")"
      ],
      "execution_count": null,
      "outputs": [
        {
          "output_type": "execute_result",
          "data": {
            "text/plain": [
              "<matplotlib.axes._subplots.AxesSubplot at 0x7f0f0c39da90>"
            ]
          },
          "metadata": {
            "tags": []
          },
          "execution_count": 15
        },
        {
          "output_type": "display_data",
          "data": {
            "image/png": "[encoded data removed]",
            "text/plain": [
              "<Figure size 432x288 with 1 Axes>"
            ]
          },
          "metadata": {
            "tags": [],
            "needs_background": "light"
          }
        }
      ]
    },
    {
      "cell_type": "code",
      "metadata": {
        "id": "rUM9F2h35dam",
        "colab_type": "code",
        "colab": {
          "base_uri": "https://localhost:8080/",
          "height": 308
        },
        "outputId": "cfbd9d1d-d002-4a01-8916-4d9e81db9f1b"
      },
      "source": [
        "## Price per bedroom\n",
        "\n",
        "sns.boxplot(x=\"Bedrooms\", y=\"SalePrice\",  data=house_sales)"
      ],
      "execution_count": null,
      "outputs": [
        {
          "output_type": "execute_result",
          "data": {
            "text/plain": [
              "<matplotlib.axes._subplots.AxesSubplot at 0x7f0f0c33a198>"
            ]
          },
          "metadata": {
            "tags": []
          },
          "execution_count": 16
        },
        {
          "output_type": "display_data",
          "data": {
            "image/png": "[encoded data removed]",
            "text/plain": [
              "<Figure size 432x288 with 1 Axes>"
            ]
          },
          "metadata": {
            "tags": [],
            "needs_background": "light"
          }
        }
      ]
    },
    {
      "cell_type": "code",
      "metadata": {
        "id": "y-caqX2S59OW",
        "colab_type": "code",
        "colab": {
          "base_uri": "https://localhost:8080/",
          "height": 308
        },
        "outputId": "6ae763a1-72b8-4593-a506-4dafce7ec27b"
      },
      "source": [
        "## Let's remove outliers to have a better plot\n",
        "## Only consider 5 or under bedrooms\n",
        "\n",
        "filtered = house_sales.loc[house_sales['Bedrooms'] <= 5 ]\n",
        "sns.boxplot(x=\"Bedrooms\", y=\"SalePrice\",  data=filtered)"
      ],
      "execution_count": null,
      "outputs": [
        {
          "output_type": "execute_result",
          "data": {
            "text/plain": [
              "<matplotlib.axes._subplots.AxesSubplot at 0x7f0f025cdef0>"
            ]
          },
          "metadata": {
            "tags": []
          },
          "execution_count": 31
        },
        {
          "output_type": "display_data",
          "data": {
            "image/png": "[encoded data removed]",
            "text/plain": [
              "<Figure size 432x288 with 1 Axes>"
            ]
          },
          "metadata": {
            "tags": [],
            "needs_background": "light"
          }
        }
      ]
    },
    {
      "cell_type": "code",
      "metadata": {
        "id": "7__kt9q09UCn",
        "colab_type": "code",
        "colab": {
          "base_uri": "https://localhost:8080/",
          "height": 308
        },
        "outputId": "d797c263-2a47-401b-e6d6-696c87a9d562"
      },
      "source": [
        "## limit y axis range for a better plot\n",
        "\n",
        "ax = sns.boxplot(x=\"Bedrooms\", y=\"SalePrice\",  data=filtered)\n",
        "ax.set(ylim=(10, 1.5*1e6))"
      ],
      "execution_count": null,
      "outputs": [
        {
          "output_type": "execute_result",
          "data": {
            "text/plain": [
              "[(10.0, 1500000.0)]"
            ]
          },
          "metadata": {
            "tags": []
          },
          "execution_count": 40
        },
        {
          "output_type": "display_data",
          "data": {
            "image/png": "[encoded data removed]",
            "text/plain": [
              "<Figure size 432x288 with 1 Axes>"
            ]
          },
          "metadata": {
            "tags": [],
            "needs_background": "light"
          }
        }
      ]
    },
    {
      "cell_type": "code",
      "metadata": {
        "id": "S5L2sgNM7pth",
        "colab_type": "code",
        "colab": {
          "base_uri": "https://localhost:8080/",
          "height": 308
        },
        "outputId": "b8f49ed1-4522-4450-a1d2-631324e724fd"
      },
      "source": [
        "## SQFT vs Sales\n",
        "sns.scatterplot(x='SqFtTotLiving', y='SalePrice', data=house_sales)"
      ],
      "execution_count": null,
      "outputs": [
        {
          "output_type": "execute_result",
          "data": {
            "text/plain": [
              "<matplotlib.axes._subplots.AxesSubplot at 0x7f0f041b3748>"
            ]
          },
          "metadata": {
            "tags": []
          },
          "execution_count": 24
        },
        {
          "output_type": "display_data",
          "data": {
            "image/png": "[encoded data removed]",
            "text/plain": [
              "<Figure size 432x288 with 1 Axes>"
            ]
          },
          "metadata": {
            "tags": [],
            "needs_background": "light"
          }
        }
      ]
    },
    {
      "cell_type": "markdown",
      "metadata": {
        "id": "jKaZzkFd3_e9",
        "colab_type": "text"
      },
      "source": [
        "---"
      ]
    },
    {
      "cell_type": "code",
      "metadata": {
        "id": "bMdCrFLo4APh",
        "colab_type": "code",
        "colab": {}
      },
      "source": [
        ""
      ],
      "execution_count": null,
      "outputs": []
    }
  ]
}